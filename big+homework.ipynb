{
 "cells": [
  {
   "cell_type": "code",
   "execution_count": 3,
   "metadata": {
    "collapsed": false
   },
   "outputs": [],
   "source": [
    "import numpy as np\n",
    "import pandas as pd\n",
    "\n",
    "columns=[\"pickup_datetime\",\"dropoff_datetime\",\"pickup_longitude\",\"pickup_latitude\",\"dropoff_longitude\",\"dropoff_latitude\"]"
   ]
  },
  {
   "cell_type": "code",
   "execution_count": 72,
   "metadata": {
    "collapsed": false
   },
   "outputs": [],
   "source": [
    "columns=[' dropoff_datetime',' pickup_datetime',' pickup_longitude', ' pickup_latitude', ' dropoff_longitude',\n",
    "       ' dropoff_latitude']"
   ]
  },
  {
   "cell_type": "code",
   "execution_count": 28,
   "metadata": {
    "collapsed": false
   },
   "outputs": [],
   "source": [
    "time_list=list(pd.date_range('2013-08-01 00:00:00','2013-08-31 12:00:00',freq='3h').values)\n",
    "time_list.append(np.datetime64('2013-09-01T00:00:00.000000000'))\n",
    "latitude_list=np.arange(4050,4150,1)\n",
    "longitude_list=np.arange(-7350,-7450,-1)\n",
    "time_outcome=pd.DataFrame(np.zeros((1,len(time_list))),columns=time_list)"
   ]
  },
  {
   "cell_type": "code",
   "execution_count": 5,
   "metadata": {
    "collapsed": true
   },
   "outputs": [],
   "source": [
    "def aggregate_time(outcome,df1,time_list):\n",
    "    df=df1[columns]\n",
    "    for index,time in enumerate(time_list):\n",
    "        if(index<len(time_list)-1):\n",
    "            filter = (pd.to_datetime(df[\" pickup_datetime\"])>time_list[index]) & (pd.to_datetime(df[\" pickup_datetime\"])<time_list[index+1])\n",
    "        else:\n",
    "            filter=pd.to_datetime(df[\" pickup_datetime\"])>time_list[index]\n",
    "        outcome[time]=len(df[filter])\n",
    "    return outcome"
   ]
  },
  {
   "cell_type": "code",
   "execution_count": 78,
   "metadata": {
    "collapsed": false
   },
   "outputs": [],
   "source": [
    "input = pd.read_csv('/Users/zhangzhihao/Desktop/html/big homework/trip_data_8.csv', chunksize=1000000,low_memory=False)\n",
    "for i in input:\n",
    "    chunk = aggregate(time_outcome,i,time_list)# 进行一些操作\n",
    "    chunk.to_csv('/Users/zhangzhihao/Desktop/html/big homework/time_output.csv', mode='a', header=False) "
   ]
  },
  {
   "cell_type": "code",
   "execution_count": 53,
   "metadata": {
    "collapsed": false
   },
   "outputs": [],
   "source": [
    "def aggregate_geo(outcome,df1):\n",
    "    df=df1[columns1]\n",
    "    for row in list(df.index):\n",
    "        lat=int(df.ix[row,' pickup_latitude']*100)\n",
    "        lon=int(df.ix[row,' pickup_longitude']*100)\n",
    "        if((lat in latitude_list)and(lon in longitude_list)):\n",
    "            outcome.ix[lat,lon]+=1\n",
    "    return outcome"
   ]
  },
  {
   "cell_type": "code",
   "execution_count": 36,
   "metadata": {
    "collapsed": true
   },
   "outputs": [],
   "source": [
    "columns1=[' pickup_longitude', ' pickup_latitude', ' dropoff_longitude',\n",
    "       ' dropoff_latitude']"
   ]
  },
  {
   "cell_type": "code",
   "execution_count": 55,
   "metadata": {
    "collapsed": false
   },
   "outputs": [],
   "source": [
    "geo_outcome=pd.DataFrame(np.zeros((len(latitude_list),len(longitude_list))),columns=longitude_list,index=latitude_list)"
   ]
  },
  {
   "cell_type": "code",
   "execution_count": 9,
   "metadata": {
    "collapsed": false
   },
   "outputs": [
    {
     "name": "stdout",
     "output_type": "stream",
     "text": [
      "Iteration is stopped.\n"
     ]
    }
   ],
   "source": [
    "import numpy as np\n",
    "import pandas as pd\n",
    "reader=pd.read_csv(\"/Users/zhangzhihao/Desktop/html/big homework/trip_data_8.csv\",iterator=True,low_memory=False)\n",
    "loop = True\n",
    "chunkSize = 100000\n",
    "chunks = []\n",
    "while loop:\n",
    "    try:\n",
    "        chunk = reader.get_chunk(chunkSize)\n",
    "        chunks.append(chunk)\n",
    "    except StopIteration:\n",
    "        loop = False\n",
    "        print (\"Iteration is stopped.\")\n",
    "df = pd.concat(chunks, ignore_index=True)"
   ]
  },
  {
   "cell_type": "code",
   "execution_count": 42,
   "metadata": {
    "collapsed": false
   },
   "outputs": [
    {
     "data": {
      "text/html": [
       "<div>\n",
       "<table border=\"1\" class=\"dataframe\">\n",
       "  <thead>\n",
       "    <tr style=\"text-align: right;\">\n",
       "      <th></th>\n",
       "      <th>pickup_longitude</th>\n",
       "      <th>pickup_latitude</th>\n",
       "      <th>dropoff_longitude</th>\n",
       "      <th>dropoff_latitude</th>\n",
       "    </tr>\n",
       "  </thead>\n",
       "  <tbody>\n",
       "    <tr>\n",
       "      <th>10</th>\n",
       "      <td>-73.972847</td>\n",
       "      <td>40.793156</td>\n",
       "      <td>-73.964058</td>\n",
       "      <td>40.799034</td>\n",
       "    </tr>\n",
       "    <tr>\n",
       "      <th>11</th>\n",
       "      <td>-73.996498</td>\n",
       "      <td>40.742821</td>\n",
       "      <td>-74.001961</td>\n",
       "      <td>40.732552</td>\n",
       "    </tr>\n",
       "    <tr>\n",
       "      <th>12</th>\n",
       "      <td>-74.004684</td>\n",
       "      <td>40.746986</td>\n",
       "      <td>-73.951416</td>\n",
       "      <td>40.710934</td>\n",
       "    </tr>\n",
       "    <tr>\n",
       "      <th>13</th>\n",
       "      <td>-73.967293</td>\n",
       "      <td>40.772285</td>\n",
       "      <td>-73.983322</td>\n",
       "      <td>40.765354</td>\n",
       "    </tr>\n",
       "    <tr>\n",
       "      <th>14</th>\n",
       "      <td>-73.952408</td>\n",
       "      <td>40.784161</td>\n",
       "      <td>-73.971863</td>\n",
       "      <td>40.754349</td>\n",
       "    </tr>\n",
       "    <tr>\n",
       "      <th>15</th>\n",
       "      <td>-73.991440</td>\n",
       "      <td>40.749969</td>\n",
       "      <td>-73.970551</td>\n",
       "      <td>40.762390</td>\n",
       "    </tr>\n",
       "    <tr>\n",
       "      <th>16</th>\n",
       "      <td>-73.980835</td>\n",
       "      <td>40.730640</td>\n",
       "      <td>-74.006462</td>\n",
       "      <td>40.741478</td>\n",
       "    </tr>\n",
       "    <tr>\n",
       "      <th>17</th>\n",
       "      <td>-74.003204</td>\n",
       "      <td>40.726990</td>\n",
       "      <td>-74.016174</td>\n",
       "      <td>40.710190</td>\n",
       "    </tr>\n",
       "    <tr>\n",
       "      <th>18</th>\n",
       "      <td>-73.918129</td>\n",
       "      <td>40.735394</td>\n",
       "      <td>-73.992760</td>\n",
       "      <td>40.665665</td>\n",
       "    </tr>\n",
       "    <tr>\n",
       "      <th>19</th>\n",
       "      <td>-73.979897</td>\n",
       "      <td>40.745674</td>\n",
       "      <td>-74.435204</td>\n",
       "      <td>40.553726</td>\n",
       "    </tr>\n",
       "    <tr>\n",
       "      <th>20</th>\n",
       "      <td>-73.945404</td>\n",
       "      <td>40.807911</td>\n",
       "      <td>-73.991592</td>\n",
       "      <td>40.757900</td>\n",
       "    </tr>\n",
       "  </tbody>\n",
       "</table>\n",
       "</div>"
      ],
      "text/plain": [
       "     pickup_longitude   pickup_latitude   dropoff_longitude   dropoff_latitude\n",
       "10         -73.972847         40.793156          -73.964058          40.799034\n",
       "11         -73.996498         40.742821          -74.001961          40.732552\n",
       "12         -74.004684         40.746986          -73.951416          40.710934\n",
       "13         -73.967293         40.772285          -73.983322          40.765354\n",
       "14         -73.952408         40.784161          -73.971863          40.754349\n",
       "15         -73.991440         40.749969          -73.970551          40.762390\n",
       "16         -73.980835         40.730640          -74.006462          40.741478\n",
       "17         -74.003204         40.726990          -74.016174          40.710190\n",
       "18         -73.918129         40.735394          -73.992760          40.665665\n",
       "19         -73.979897         40.745674          -74.435204          40.553726\n",
       "20         -73.945404         40.807911          -73.991592          40.757900"
      ]
     },
     "execution_count": 42,
     "metadata": {},
     "output_type": "execute_result"
    }
   ],
   "source": [
    "df_test=df.ix[10:20,columns1]\n",
    "df_test"
   ]
  },
  {
   "cell_type": "code",
   "execution_count": 56,
   "metadata": {
    "collapsed": false
   },
   "outputs": [],
   "source": [
    "input = pd.read_csv('/Users/zhangzhihao/Desktop/html/big homework/trip_data_8.csv', chunksize=1000000,low_memory=False)\n",
    "for i in input:\n",
    "    aggregate_geo(geo_outcome,i)"
   ]
  },
  {
   "cell_type": "code",
   "execution_count": 59,
   "metadata": {
    "collapsed": false
   },
   "outputs": [],
   "source": [
    "geo_outcome.to_csv(\"/Users/zhangzhihao/Desktop/html/big homework/geo_outcome.csv\")"
   ]
  },
  {
   "cell_type": "code",
   "execution_count": 62,
   "metadata": {
    "collapsed": true
   },
   "outputs": [],
   "source": [
    "latitudes=list(latitude_list/100)\n",
    "longitudes=list(longitude_list/100)"
   ]
  },
  {
   "cell_type": "code",
   "execution_count": 64,
   "metadata": {
    "collapsed": false
   },
   "outputs": [],
   "source": [
    "geo_outcome.columns=longitudes\n",
    "geo_outcome.index=latitudes"
   ]
  },
  {
   "cell_type": "code",
   "execution_count": 66,
   "metadata": {
    "collapsed": false
   },
   "outputs": [],
   "source": [
    "geo_outcome.to_csv(\"/Users/zhangzhihao/Desktop/html/big homework/geo_outcome.csv\")"
   ]
  }
 ],
 "metadata": {
  "kernelspec": {
   "display_name": "Python 3",
   "language": "python",
   "name": "python3"
  },
  "language_info": {
   "codemirror_mode": {
    "name": "ipython",
    "version": 3
   },
   "file_extension": ".py",
   "mimetype": "text/x-python",
   "name": "python",
   "nbconvert_exporter": "python",
   "pygments_lexer": "ipython3",
   "version": "3.6.0"
  }
 },
 "nbformat": 4,
 "nbformat_minor": 2
}
